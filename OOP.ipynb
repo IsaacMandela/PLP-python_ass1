{
 "cells": [
  {
   "cell_type": "markdown",
   "id": "6bbc9d5e-f19f-4c6d-a681-19db22e0f454",
   "metadata": {},
   "source": [
    "Create a class representing anything you like (a Smartphone, Book, or even a Superhero!).\n",
    "Add attributes and methods to bring the class to life!\n",
    "Use constructors to initialize each object with unique values.\n",
    "Add an inheritance layer to explore polymorphism or encapsulation."
   ]
  },
  {
   "cell_type": "code",
   "execution_count": 16,
   "id": "f4e3ad96-fa04-4624-ac58-06d7765f05d9",
   "metadata": {},
   "outputs": [
    {
     "name": "stdout",
     "output_type": "stream",
     "text": [
      "blue AMG G63 with 4 wheels\n",
      "red Toyota with 4 wheels uses Fuel: petrol\n"
     ]
    }
   ],
   "source": [
    "class Vehicle:\n",
    "    def __init__(self, color, model, wheels=4):\n",
    "        self.__wheels = wheels   # hidden wheels (private)\n",
    "        self.color = color\n",
    "        self.model = model\n",
    "\n",
    "    def get_wheels(self):\n",
    "        return self.__wheels\n",
    "\n",
    "    def show_info(self):\n",
    "        return f\"{self.color} {self.model} with {self.__wheels} wheels\"\n",
    "\n",
    "\n",
    "# A Car is a special kind of Vehicle\n",
    "class Car(Vehicle):\n",
    "    def __init__(self, color, model, fuel_type):\n",
    "        # Pass color and model to Vehicle\n",
    "        super().__init__(color, model, wheels=4)\n",
    "        self.fuel_type = fuel_type\n",
    "\n",
    "    def show_car(self):\n",
    "        return f\"{self.show_info()} uses Fuel: {self.fuel_type}\"\n",
    "\n",
    "\n",
    "# Let's make some objects\n",
    "benz = Vehicle(\"blue\", \"AMG G63\")\n",
    "print(benz.show_info())\n",
    "\n",
    "my_car = Car(\"red\", \"Toyota\", \"petrol\")\n",
    "print(my_car.show_car())\n",
    "\n"
   ]
  },
  {
   "cell_type": "markdown",
   "id": "18ffcd0f-b164-4a29-8633-e8774736ff91",
   "metadata": {},
   "source": [
    "Create a program that includes animals or vehicles with the same action (like move()). However, make each class define move() differently (for example, Car.move() prints \"Driving\" 🚗, while Plane.move() prints \"Flying\" ✈️)."
   ]
  },
  {
   "cell_type": "code",
   "execution_count": 3,
   "id": "c06e5fe1-ee3e-4335-b859-dbb27c4249d7",
   "metadata": {},
   "outputs": [
    {
     "name": "stdout",
     "output_type": "stream",
     "text": [
      "Driving 🚗\n",
      "Flying ✈️\n",
      "Sailing ⛵\n"
     ]
    }
   ],
   "source": [
    "# Parent class (blueprint)\n",
    "class Vehicle:\n",
    "    def move(self):\n",
    "        print(\"The vehicle is moving...\")\n",
    "\n",
    "# Car is a type of Vehicle\n",
    "class Car(Vehicle):\n",
    "    def move(self):\n",
    "        print(\"Driving 🚗\")\n",
    "\n",
    "# Plane is a type of Vehicle\n",
    "class Plane(Vehicle):\n",
    "    def move(self):\n",
    "        print(\"Flying ✈️\")\n",
    "\n",
    "# Boat is a type of Vehicle\n",
    "class Boat(Vehicle):\n",
    "    def move(self):\n",
    "        print(\"Sailing ⛵\")\n",
    "\n",
    "\n",
    "# Let's test them\n",
    "my_car = Car()\n",
    "my_plane = Plane()\n",
    "my_boat = Boat()\n",
    "\n",
    "my_car.move()    # Driving 🚗\n",
    "my_plane.move()  # Flying ✈️\n",
    "my_boat.move()   # Sailing ⛵\n"
   ]
  },
  {
   "cell_type": "code",
   "execution_count": 8,
   "id": "227d6e38-e698-4886-ac82-1804519fd74b",
   "metadata": {},
   "outputs": [
    {
     "name": "stdout",
     "output_type": "stream",
     "text": [
      "The SUV has 4 wheels\n",
      "This is a 2020 Toyota LandCruiser, V8 engine to be specific\n",
      "The SUV drives at a max speed of 220 Km/Hr \n",
      "The Toyota LandCruiser is a 4 door black machine \n",
      "The SUV drives at a max speed of 200 Km/Hr \n"
     ]
    }
   ],
   "source": [
    "class Vehicle:\n",
    "    def __init__(self, cartype, wheels=4):\n",
    "        self.cartype = cartype\n",
    "        #Private attribute(Encapsulation)\n",
    "        self.__wheels = wheels\n",
    "        \n",
    "    #__str__() method to provide a readable string output for an object:\n",
    "    def __str__(self):\n",
    "        return f\"The {self.cartype} has {self.__wheels} wheels\"\n",
    "\n",
    "    def action(self, action, speed):\n",
    "        self.action = action\n",
    "        self.speed = speed\n",
    "        return f\"The {self.cartype} {self.action} at a max speed of {self.speed} Km/Hr \"\n",
    "\n",
    "#Inheritance\n",
    "class Model(Vehicle):\n",
    "    def __init__(self, cartype, wheels, year, make, engine):\n",
    "        super().__init__(cartype, wheels)\n",
    "        self.year = year\n",
    "        self.make = make\n",
    "        self.engine = engine\n",
    "\n",
    "    def __str__(self):\n",
    "        return f\"This is a {self.year} {self.make}, {self.engine} engine to be specific\"\n",
    "\n",
    "class Description( Model):\n",
    "    def __init__(self, cartype, wheels, year, make, engine, color, doors):\n",
    "        super().__init__(cartype, wheels,year, make, engine)\n",
    "        self.color = color\n",
    "        self.doors = doors\n",
    "\n",
    "    def __str__(self):\n",
    "        return f\"The {self.make} is a {self.doors} door {self.color} machine \"\n",
    "    \n",
    "    \n",
    "vehicle = Vehicle('SUV',4)\n",
    "# #print(vehicle.vehicle_info())\n",
    "print(vehicle)\n",
    "#print(vehicle.action('drives', 220))\n",
    "model = Model('SUV', 4, 2020, 'Toyota LandCruiser', 'V8')\n",
    "print(model)\n",
    "print(model.action('drives', 220))\n",
    "des = Description('SUV', 4, 2020, 'Toyota LandCruiser', 'V8', 'black', 4)\n",
    "print(des)\n",
    "print(des.action('drives', 200))"
   ]
  },
  {
   "cell_type": "code",
   "execution_count": null,
   "id": "cd170056-ca00-4fb1-82bf-028c9d1c5e4a",
   "metadata": {},
   "outputs": [],
   "source": []
  }
 ],
 "metadata": {
  "kernelspec": {
   "display_name": "Python 3 (ipykernel)",
   "language": "python",
   "name": "python3"
  },
  "language_info": {
   "codemirror_mode": {
    "name": "ipython",
    "version": 3
   },
   "file_extension": ".py",
   "mimetype": "text/x-python",
   "name": "python",
   "nbconvert_exporter": "python",
   "pygments_lexer": "ipython3",
   "version": "3.13.3"
  }
 },
 "nbformat": 4,
 "nbformat_minor": 5
}
