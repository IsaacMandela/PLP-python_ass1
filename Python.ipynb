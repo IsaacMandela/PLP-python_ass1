{
 "cells": [
  {
   "cell_type": "markdown",
   "id": "0fa9ca7c-4b68-4535-b1d0-8eeefc82a87c",
   "metadata": {},
   "source": [
    "1. Personalized Greeting App 👋\n",
    "\n",
    "\n",
    "Create a program that asks for the user’s name and favorite color, then prints a personalized greeting like: “Hello, [Name]! Your favorite color, [Color], is awesome!”"
   ]
  },
  {
   "cell_type": "code",
   "execution_count": 2,
   "id": "cf063e78-eff4-4e17-90c3-5ebb14be872f",
   "metadata": {},
   "outputs": [
    {
     "name": "stdin",
     "output_type": "stream",
     "text": [
      "Enter Name Isaac\n",
      "Enter Color Black\n"
     ]
    },
    {
     "name": "stdout",
     "output_type": "stream",
     "text": [
      "Hello Isaac, Your favorite color Black, is awesome\n"
     ]
    }
   ],
   "source": [
    "name = input('Enter Name')\n",
    "color = input('Enter Color')\n",
    "\n",
    "print(f'Hello {name}, Your favorite color {color}, is awesome')"
   ]
  },
  {
   "cell_type": "markdown",
   "id": "be5e5bf2-e957-4cb8-9c84-6b85d95cd682",
   "metadata": {},
   "source": [
    "2. Simple Quiz Game 🎮\n",
    "\n",
    "Create a multiple-choice quiz with questions about movies, or any fun topic! Display scores at the end and allow the user to play again. 🏆"
   ]
  },
  {
   "cell_type": "code",
   "execution_count": 3,
   "id": "c42bdfbc-2d75-4d5b-95e9-325d8b2317dc",
   "metadata": {},
   "outputs": [
    {
     "name": "stdout",
     "output_type": "stream",
     "text": [
      "\n",
      "Who wrote the Marvel movies?\n",
      "a. Stan Lee\n",
      "b. Robert Downey Jr\n",
      "c. Robert Greene\n",
      "d. Sam Smith\n"
     ]
    },
    {
     "name": "stdin",
     "output_type": "stream",
     "text": [
      "Enter your choice (a, b, c, or d):  a\n"
     ]
    },
    {
     "name": "stdout",
     "output_type": "stream",
     "text": [
      "Correct answer!\n",
      "\n",
      "Who is the latest actor to act Spider man?\n",
      "a. Wakadinali\n",
      "b. Tom Holland\n",
      "c. Donald Trump\n",
      "d. Hillay Duff\n"
     ]
    },
    {
     "name": "stdin",
     "output_type": "stream",
     "text": [
      "Enter your choice (a, b, c, or d):  c\n"
     ]
    },
    {
     "name": "stdout",
     "output_type": "stream",
     "text": [
      "Incorrect answer.\n",
      "\n",
      "Who is the first Kenyan actress to win a Grammy?\n",
      "a. Natalie Tewa\n",
      "b. Brenda Wairimu\n",
      "c. Bernice Nunah\n",
      "d. Lupita Nyong'o\n"
     ]
    },
    {
     "name": "stdin",
     "output_type": "stream",
     "text": [
      "Enter your choice (a, b, c, or d):  d\n"
     ]
    },
    {
     "name": "stdout",
     "output_type": "stream",
     "text": [
      "Correct answer!\n",
      "\n",
      "Quiz complete! Your total score: 2/3\n",
      "\n"
     ]
    },
    {
     "name": "stdin",
     "output_type": "stream",
     "text": [
      "Do you want to play again? (yes/no):  no\n"
     ]
    },
    {
     "name": "stdout",
     "output_type": "stream",
     "text": [
      "Thanks for playing!\n"
     ]
    }
   ],
   "source": [
    "def run_quiz():\n",
    "    points = 0\n",
    "\n",
    "    questions =[ {'text': 'Who wrote the Marvel movies?',\n",
    "               'options':\n",
    "               {\n",
    "                   'a':'Stan Lee',\n",
    "                   'b':'Robert Downey Jr',\n",
    "                   'c':'Robert Greene',\n",
    "                   'd':'Sam Smith'\n",
    "               },\n",
    "                'correct answer': 'a'\n",
    "               },\n",
    "\n",
    "                 {'text': 'Who is the latest actor to act Spider man?',\n",
    "                 'options':\n",
    "                \n",
    "                    {\n",
    "                      'a':'Wakadinali',\n",
    "                      'b':'Tom Holland',\n",
    "                      'c':'Donald Trump',\n",
    "                      'd':'Hillay Duff',\n",
    "                  },\n",
    "                  'correct answer': 'b'\n",
    "                 },\n",
    "\n",
    "                 {'text': 'Who is the first Kenyan actress to win a Grammy?',\n",
    "                 'options':\n",
    "                      {\n",
    "                      'a':'Natalie Tewa',\n",
    "                      'b':'Brenda Wairimu',\n",
    "                      'c':'Bernice Nunah',\n",
    "                      'd':\"Lupita Nyong'o\",\n",
    "                  },\n",
    "                  'correct answer': 'd'\n",
    "            }]\n",
    "    for question in questions:\n",
    "        print(\"\\n\" + question['text'])\n",
    "        for key, value in question['options'].items():\n",
    "            print(f\"{key}. {value}\")\n",
    "\n",
    "        user_answer = input(\"Enter your choice (a, b, c, or d): \").lower()\n",
    "        if user_answer == question['correct answer']:\n",
    "            print(\"Correct answer!\")\n",
    "            points += 1\n",
    "        else:\n",
    "            print(\"Incorrect answer.\")\n",
    "\n",
    "    print(f\"\\nQuiz complete! Your total score: {points}/{len(questions)}\\n\")\n",
    "\n",
    "# Main loop to allow replay\n",
    "while True:\n",
    "    run_quiz()\n",
    "    play_again = input(\"Do you want to play again? (yes/no): \").lower()\n",
    "    if play_again != 'yes':\n",
    "        print(\"Thanks for playing!\")\n",
    "        break\n"
   ]
  },
  {
   "cell_type": "markdown",
   "id": "bee0a7ec-d135-4766-8155-879d3f09ee00",
   "metadata": {},
   "source": [
    "3. Random Joke Generator 🤣\n",
    "\n",
    "Build a program that stores a list of jokes and randomly selects one to display every time the user runs it. Add a fun twist with jokes about Python or programming! 🐍💡"
   ]
  },
  {
   "cell_type": "code",
   "execution_count": 16,
   "id": "9b028ea0-76c6-4228-a144-918474992d33",
   "metadata": {},
   "outputs": [
    {
     "name": "stdout",
     "output_type": "stream",
     "text": [
      "Where do surfers go for an education? Boarding school.\n"
     ]
    }
   ],
   "source": [
    "import random\n",
    "\n",
    "def random_jokes():\n",
    "    jokes = ['What do you call a deer without eyes?No Idea', 'Where do surfers go for an education? Boarding school.','What color is the wind? Blew.',\"Why do programmers prefer dark mode? Because light attracts bugs.\"]\n",
    "    selected_joke = random.choice(jokes)\n",
    "    print(selected_joke)\n",
    "\n",
    "random_jokes()"
   ]
  },
  {
   "cell_type": "markdown",
   "id": "4a38f8a0-9a34-45d8-ba5c-02bd99737d41",
   "metadata": {},
   "source": [
    "4. Basic Calculator Program\n",
    "\n",
    "Create a simple Python program that asks the user to input two numbers and a mathematical operation (addition, subtraction, multiplication, or division).\n",
    "Perform the operation based on the user's input and print the result.\n",
    "Example: If a user inputs 10, 5, and +, your program should display 10 + 5 = 15"
   ]
  },
  {
   "cell_type": "code",
   "execution_count": 22,
   "id": "2911aa37-af8c-4c6b-b5a9-87b7bbad9ab6",
   "metadata": {},
   "outputs": [
    {
     "name": "stdin",
     "output_type": "stream",
     "text": [
      "Enter number 4\n",
      "Enter number 7\n",
      "Enter operator /\n"
     ]
    },
    {
     "name": "stdout",
     "output_type": "stream",
     "text": [
      "Result: 0.5714285714285714\n"
     ]
    }
   ],
   "source": [
    "def simple_calculator():\n",
    "    num_1 = int(input('Enter number'))\n",
    "    num_2 = int(input('Enter number'))\n",
    "    operator = input('Enter operator')\n",
    "\n",
    "    if operator == '+':\n",
    "        calc = num_1 + num_2\n",
    "    elif operator == '-':\n",
    "        calc = num_1 - num_2\n",
    "    elif operator == '*':\n",
    "        calc = num_1 * num_2\n",
    "    elif operator == '/':\n",
    "        if num_2 != 0:\n",
    "            calc = num_1 / num_2\n",
    "        else:\n",
    "            print(\"Error: Division by zero is not allowed.\")\n",
    "            return\n",
    "    else:\n",
    "        print(\"Invalid operator\")\n",
    "        return\n",
    "\n",
    "    print(f\"Result: {calc}\")\n",
    "\n",
    "simple_calculator()"
   ]
  },
  {
   "cell_type": "code",
   "execution_count": null,
   "id": "b4617453-7d89-46aa-959d-7f0d3fdf6008",
   "metadata": {},
   "outputs": [],
   "source": []
  }
 ],
 "metadata": {
  "kernelspec": {
   "display_name": "Python 3 (ipykernel)",
   "language": "python",
   "name": "python3"
  },
  "language_info": {
   "codemirror_mode": {
    "name": "ipython",
    "version": 3
   },
   "file_extension": ".py",
   "mimetype": "text/x-python",
   "name": "python",
   "nbconvert_exporter": "python",
   "pygments_lexer": "ipython3",
   "version": "3.13.3"
  }
 },
 "nbformat": 4,
 "nbformat_minor": 5
}
