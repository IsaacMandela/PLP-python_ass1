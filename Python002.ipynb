{
 "cells": [
  {
   "cell_type": "markdown",
   "id": "0fa9ca7c-4b68-4535-b1d0-8eeefc82a87c",
   "metadata": {},
   "source": [
    "1. Personalized Greeting App 👋\n",
    "\n",
    "\n",
    "Create a program that asks for the user’s name and favorite color, then prints a personalized greeting like: “Hello, [Name]! Your favorite color, [Color], is awesome!”"
   ]
  },
  {
   "cell_type": "code",
   "execution_count": 1,
   "id": "cf063e78-eff4-4e17-90c3-5ebb14be872f",
   "metadata": {},
   "outputs": [
    {
     "name": "stdout",
     "output_type": "stream",
     "text": [
      "Hello Isaac, Your favorite color Black, is awesome\n"
     ]
    }
   ],
   "source": [
    "name = input('Enter Name')\n",
    "color = input('Enter Color')\n",
    "\n",
    "print(f'Hello {name}, Your favorite color {color}, is awesome')"
   ]
  },
  {
   "cell_type": "markdown",
   "id": "be5e5bf2-e957-4cb8-9c84-6b85d95cd682",
   "metadata": {},
   "source": [
    "2. Simple Quiz Game 🎮\n",
    "\n",
    "Create a multiple-choice quiz with questions about movies, or any fun topic! Display scores at the end and allow the user to play again. 🏆"
   ]
  },
  {
   "cell_type": "code",
   "execution_count": 2,
   "id": "c42bdfbc-2d75-4d5b-95e9-325d8b2317dc",
   "metadata": {},
   "outputs": [
    {
     "name": "stdout",
     "output_type": "stream",
     "text": [
      "\n",
      "Who wrote the Marvel movies?\n",
      "a. Stan Lee\n",
      "b. Robert Downey Jr\n",
      "c. Robert Greene\n",
      "d. Sam Smith\n",
      "Correct answer!\n",
      "\n",
      "Who is the latest actor to act Spider man?\n",
      "a. Wakadinali\n",
      "b. Tom Holland\n",
      "c. Donald Trump\n",
      "d. Hillay Duff\n",
      "Correct answer!\n",
      "\n",
      "Who is the first Kenyan actress to win a Grammy?\n",
      "a. Natalie Tewa\n",
      "b. Brenda Wairimu\n",
      "c. Bernice Nunah\n",
      "d. Lupita Nyong'o\n",
      "Correct answer!\n",
      "\n",
      "Quiz complete! Your total score: 3/3\n",
      "\n",
      "Thanks for playing!\n"
     ]
    }
   ],
   "source": [
    "def run_quiz():\n",
    "    points = 0\n",
    "\n",
    "    questions =[ {'text': 'Who wrote the Marvel movies?',\n",
    "               'options':\n",
    "               {\n",
    "                   'a':'Stan Lee',\n",
    "                   'b':'Robert Downey Jr',\n",
    "                   'c':'Robert Greene',\n",
    "                   'd':'Sam Smith'\n",
    "               },\n",
    "                'correct answer': 'a'\n",
    "               },\n",
    "\n",
    "                 {'text': 'Who is the latest actor to act Spider man?',\n",
    "                 'options':\n",
    "                \n",
    "                    {\n",
    "                      'a':'Wakadinali',\n",
    "                      'b':'Tom Holland',\n",
    "                      'c':'Donald Trump',\n",
    "                      'd':'Hillay Duff',\n",
    "                  },\n",
    "                  'correct answer': 'b'\n",
    "                 },\n",
    "\n",
    "                 {'text': 'Who is the first Kenyan actress to win a Grammy?',\n",
    "                 'options':\n",
    "                      {\n",
    "                      'a':'Natalie Tewa',\n",
    "                      'b':'Brenda Wairimu',\n",
    "                      'c':'Bernice Nunah',\n",
    "                      'd':\"Lupita Nyong'o\",\n",
    "                  },\n",
    "                  'correct answer': 'd'\n",
    "            }]\n",
    "    for question in questions:\n",
    "        print(\"\\n\" + question['text'])\n",
    "        for key, value in question['options'].items():\n",
    "            print(f\"{key}. {value}\")\n",
    "\n",
    "        user_answer = input(\"Enter your choice (a, b, c, or d): \").lower()\n",
    "        if user_answer == question['correct answer']:\n",
    "            print(\"Correct answer!\")\n",
    "            points += 1\n",
    "        else:\n",
    "            print(\"Incorrect answer.\")\n",
    "\n",
    "    print(f\"\\nQuiz complete! Your total score: {points}/{len(questions)}\\n\")\n",
    "\n",
    "# Main loop to allow replay\n",
    "while True:\n",
    "    run_quiz()\n",
    "    play_again = input(\"Do you want to play again? (yes/no): \").lower()\n",
    "    if play_again != 'yes':\n",
    "        print(\"Thanks for playing!\")\n",
    "        break\n"
   ]
  },
  {
   "cell_type": "markdown",
   "id": "bee0a7ec-d135-4766-8155-879d3f09ee00",
   "metadata": {},
   "source": [
    "3. Random Joke Generator 🤣\n",
    "\n",
    "Build a program that stores a list of jokes and randomly selects one to display every time the user runs it. Add a fun twist with jokes about Python or programming! 🐍💡"
   ]
  },
  {
   "cell_type": "code",
   "execution_count": 3,
   "id": "9b028ea0-76c6-4228-a144-918474992d33",
   "metadata": {},
   "outputs": [
    {
     "name": "stdout",
     "output_type": "stream",
     "text": [
      "What color is the wind? Blew.\n"
     ]
    }
   ],
   "source": [
    "import random\n",
    "\n",
    "def random_jokes():\n",
    "    jokes = ['What do you call a deer without eyes?No Idea', 'Where do surfers go for an education? Boarding school.','What color is the wind? Blew.',\"Why do programmers prefer dark mode? Because light attracts bugs.\"]\n",
    "    selected_joke = random.choice(jokes)\n",
    "    print(selected_joke)\n",
    "\n",
    "random_jokes()"
   ]
  },
  {
   "cell_type": "markdown",
   "id": "4a38f8a0-9a34-45d8-ba5c-02bd99737d41",
   "metadata": {},
   "source": [
    "4. Basic Calculator Program\n",
    "\n",
    "Create a simple Python program that asks the user to input two numbers and a mathematical operation (addition, subtraction, multiplication, or division).\n",
    "Perform the operation based on the user's input and print the result.\n",
    "Example: If a user inputs 10, 5, and +, your program should display 10 + 5 = 15"
   ]
  },
  {
   "cell_type": "code",
   "execution_count": 4,
   "id": "2911aa37-af8c-4c6b-b5a9-87b7bbad9ab6",
   "metadata": {},
   "outputs": [
    {
     "name": "stdout",
     "output_type": "stream",
     "text": [
      "Result: 1288\n"
     ]
    }
   ],
   "source": [
    "def simple_calculator():\n",
    "    num_1 = int(input('Enter number'))\n",
    "    num_2 = int(input('Enter number'))\n",
    "    operator = input('Enter operator')\n",
    "\n",
    "    if operator == '+':\n",
    "        calc = num_1 + num_2\n",
    "    elif operator == '-':\n",
    "        calc = num_1 - num_2\n",
    "    elif operator == '*':\n",
    "        calc = num_1 * num_2\n",
    "    elif operator == '/':\n",
    "        if num_2 != 0:\n",
    "            calc = num_1 / num_2\n",
    "        else:\n",
    "            print(\"Error: Division by zero is not allowed.\")\n",
    "            return\n",
    "    else:\n",
    "        print(\"Invalid operator\")\n",
    "        return\n",
    "\n",
    "    print(f\"Result: {calc}\")\n",
    "\n",
    "simple_calculator()"
   ]
  },
  {
   "cell_type": "markdown",
   "id": "3b5798e7-d265-4bd2-b208-0420af5b0039",
   "metadata": {},
   "source": [
    "Write a program that accepts user input to create a list of integers. Then, compute the sum of all the integers in the list."
   ]
  },
  {
   "cell_type": "code",
   "execution_count": 5,
   "id": "0d6ccea2-3e3c-423d-b017-8684367bca3a",
   "metadata": {},
   "outputs": [
    {
     "name": "stdout",
     "output_type": "stream",
     "text": [
      "60\n"
     ]
    }
   ],
   "source": [
    "x = input('Enter a  list separated by commas').split(',')\n",
    "res = sum([int(i) for i in x])\n",
    "print(res)"
   ]
  },
  {
   "cell_type": "markdown",
   "id": "469c8af2",
   "metadata": {},
   "source": [
    "Create a tuple containing the names of five of your favorite books. Then, use a for loop to print each book name on a separate line."
   ]
  },
  {
   "cell_type": "code",
   "execution_count": 6,
   "id": "1487c156-4304-42e7-8b0a-59d9862aa6b8",
   "metadata": {},
   "outputs": [
    {
     "name": "stdout",
     "output_type": "stream",
     "text": [
      "River and the Source\n",
      "Rich dad Poor dad\n",
      "True Citizen\n",
      "The Art of War\n",
      "Chicken Soup for the Soul\n"
     ]
    }
   ],
   "source": [
    "books = ('River and the Source', 'Rich dad Poor dad', 'True Citizen', 'The Art of War', 'Chicken Soup for the Soul')\n",
    "for book in books:\n",
    "    print(book)"
   ]
  },
  {
   "cell_type": "markdown",
   "id": "0cae5c2c",
   "metadata": {},
   "source": [
    "Write a program that uses a dictionary to store information about a person, such as their name, age, and favorite color. Ask the user for input and store the information in the dictionary. Then, print the dictionary"
   ]
  },
  {
   "cell_type": "code",
   "execution_count": 7,
   "id": "fefa7181",
   "metadata": {},
   "outputs": [
    {
     "data": {
      "text/plain": [
       "{'name': 'Isaac', 'age': 28, 'favorite_color': 'black'}"
      ]
     },
     "execution_count": 7,
     "metadata": {},
     "output_type": "execute_result"
    }
   ],
   "source": [
    "name = input('Enter name')\n",
    "age = int(input('Enter age'))\n",
    "favorite_color = input('Enter color')\n",
    "\n",
    "def person_info(name,age,favorite_color):\n",
    "    person = {}\n",
    "    person['name'] = name\n",
    "    person['age'] = age\n",
    "    person['favorite_color'] = favorite_color\n",
    "\n",
    "    return person\n",
    "\n",
    "person_info(name,age,favorite_color)"
   ]
  },
  {
   "cell_type": "markdown",
   "id": "61a3f625",
   "metadata": {},
   "source": [
    "Create an empty list called my_list."
   ]
  },
  {
   "cell_type": "code",
   "execution_count": 8,
   "id": "ffa87304",
   "metadata": {},
   "outputs": [],
   "source": [
    "my_list = []\n"
   ]
  },
  {
   "cell_type": "markdown",
   "id": "dd2d92ee",
   "metadata": {},
   "source": [
    "Append the following elements to my_list: 10, 20, 30, 40."
   ]
  },
  {
   "cell_type": "code",
   "execution_count": 9,
   "id": "f9f36114",
   "metadata": {},
   "outputs": [
    {
     "data": {
      "text/plain": [
       "[10, 20, 30, 40]"
      ]
     },
     "execution_count": 9,
     "metadata": {},
     "output_type": "execute_result"
    }
   ],
   "source": [
    "my_list.extend([10, 20, 30, 40])\n",
    "my_list"
   ]
  },
  {
   "cell_type": "markdown",
   "id": "92dc3acb",
   "metadata": {},
   "source": [
    "Insert the value 15 at the second position in the list."
   ]
  },
  {
   "cell_type": "code",
   "execution_count": 10,
   "id": "785cbfc0",
   "metadata": {},
   "outputs": [
    {
     "data": {
      "text/plain": [
       "[10, 15, 30, 40]"
      ]
     },
     "execution_count": 10,
     "metadata": {},
     "output_type": "execute_result"
    }
   ],
   "source": [
    "my_list[1] = 15\n",
    "my_list"
   ]
  },
  {
   "cell_type": "markdown",
   "id": "d9b45c7d",
   "metadata": {},
   "source": [
    "Extend my_list with another list: [50, 60, 70]."
   ]
  },
  {
   "cell_type": "code",
   "execution_count": 14,
   "id": "bcb8e070",
   "metadata": {},
   "outputs": [
    {
     "data": {
      "text/plain": [
       "[10, 15, 30, 40, [50, 60, 70]]"
      ]
     },
     "execution_count": 14,
     "metadata": {},
     "output_type": "execute_result"
    }
   ],
   "source": [
    "my_list.append([50,60,70])\n",
    "my_list"
   ]
  },
  {
   "cell_type": "markdown",
   "id": "5c844006",
   "metadata": {},
   "source": [
    "Remove the last element from my_list."
   ]
  },
  {
   "cell_type": "code",
   "execution_count": 16,
   "id": "b1f664ab",
   "metadata": {},
   "outputs": [
    {
     "data": {
      "text/plain": [
       "[10, 15, 30, 40]"
      ]
     },
     "execution_count": 16,
     "metadata": {},
     "output_type": "execute_result"
    }
   ],
   "source": [
    "my_list.pop(-1)\n",
    "my_list"
   ]
  },
  {
   "cell_type": "markdown",
   "id": "2bd2a08a",
   "metadata": {},
   "source": [
    "Sort my_list in ascending order."
   ]
  },
  {
   "cell_type": "code",
   "execution_count": 17,
   "id": "15a9e344",
   "metadata": {},
   "outputs": [
    {
     "data": {
      "text/plain": [
       "[10, 15, 30, 40]"
      ]
     },
     "execution_count": 17,
     "metadata": {},
     "output_type": "execute_result"
    }
   ],
   "source": [
    "my_list.sort()\n",
    "my_list"
   ]
  },
  {
   "cell_type": "markdown",
   "id": "ce4adcf4",
   "metadata": {},
   "source": [
    "Find and print the index of the value 30 in my_list."
   ]
  },
  {
   "cell_type": "code",
   "execution_count": 18,
   "id": "010069de",
   "metadata": {},
   "outputs": [
    {
     "data": {
      "text/plain": [
       "2"
      ]
     },
     "execution_count": 18,
     "metadata": {},
     "output_type": "execute_result"
    }
   ],
   "source": [
    "my_list.index(30)"
   ]
  },
  {
   "cell_type": "markdown",
   "id": "55f51ccf-04e4-44b0-8b36-164835dfc581",
   "metadata": {},
   "source": [
    "Coding Question\n",
    "\n",
    "Create a function named large_power() that takes two parameters named base and exponent.\n",
    "\n",
    "If base raised to the exponent is greater than 5000, return True, otherwise return False"
   ]
  },
  {
   "cell_type": "code",
   "execution_count": 1,
   "id": "639931a0-39ca-4de8-a148-1bdd8c2d4b89",
   "metadata": {},
   "outputs": [
    {
     "data": {
      "text/plain": [
       "True"
      ]
     },
     "execution_count": 1,
     "metadata": {},
     "output_type": "execute_result"
    }
   ],
   "source": [
    "def large_power(base, exponent):\n",
    "    result = base**exponent\n",
    "    if result > 5000:\n",
    "        return True\n",
    "    else:\n",
    "        return False\n",
    "\n",
    "large_power(20,5)"
   ]
  },
  {
   "cell_type": "markdown",
   "id": "739b4d82-3c62-4cb1-8b2b-67d613f5d600",
   "metadata": {},
   "source": [
    "Create a function called divisible_by_ten() that has one parameter named num.\n",
    "\n",
    "The function should return True if num is divisible by 10, and False otherwise. Consider using modulo operator % to check for divisibility."
   ]
  },
  {
   "cell_type": "code",
   "execution_count": 4,
   "id": "c9c759fd-6b72-4d94-92bd-4dd3ed9ce0d5",
   "metadata": {},
   "outputs": [
    {
     "data": {
      "text/plain": [
       "False"
      ]
     },
     "execution_count": 4,
     "metadata": {},
     "output_type": "execute_result"
    }
   ],
   "source": [
    "def divisible_by_ten(num):\n",
    "    if num % 10 == 0:\n",
    "        return True\n",
    "    else:\n",
    "        return False\n",
    "\n",
    "divisible_by_ten(3014)"
   ]
  },
  {
   "cell_type": "markdown",
   "id": "010ac212-3cb5-4fa1-9b52-2ecf399b3631",
   "metadata": {},
   "source": [
    "Create a function named calculate_discount(price, discount_percent) that calculates the final price after applying a discount. The function should take the original price (price) and the discount percentage (discount_percent) as parameters. If the discount is 20% or higher, apply the discount; otherwise, return the original price."
   ]
  },
  {
   "cell_type": "code",
   "execution_count": 3,
   "id": "cf78521f-b2e5-464b-828f-64c37192966d",
   "metadata": {},
   "outputs": [
    {
     "data": {
      "text/plain": [
       "1000"
      ]
     },
     "execution_count": 3,
     "metadata": {},
     "output_type": "execute_result"
    }
   ],
   "source": [
    "def calculate_discount(price, discount_percent):\n",
    "    if discount_percent >= 20:\n",
    "        return price - (price*discount_percent/100)\n",
    "    else:\n",
    "        return price\n",
    "\n",
    "calculate_discount(1000, 5)"
   ]
  },
  {
   "cell_type": "markdown",
   "id": "d1f953d0-1be7-49e7-bf50-93414f2aefa7",
   "metadata": {},
   "source": [
    "Using the calculate_discount function, prompt the user to enter the original price of an item and the discount percentage. Print the final price after applying the discount, or if no discount was applied, print the original price."
   ]
  },
  {
   "cell_type": "code",
   "execution_count": 4,
   "id": "1aa2474b-efdd-416c-ba68-10c0aa7191fb",
   "metadata": {},
   "outputs": [
    {
     "name": "stdin",
     "output_type": "stream",
     "text": [
      "Enter price 2000\n",
      "Enter discount 30\n"
     ]
    },
    {
     "data": {
      "text/plain": [
       "1400.0"
      ]
     },
     "execution_count": 4,
     "metadata": {},
     "output_type": "execute_result"
    }
   ],
   "source": [
    "price = int(input('Enter price'))\n",
    "discount_percent = int(input('Enter discount'))\n",
    "\n",
    "calculate_discount(price, discount_percent)"
   ]
  },
  {
   "cell_type": "code",
   "execution_count": null,
   "id": "b4d8a4ba-935f-490b-a20b-e586a6a1d29f",
   "metadata": {},
   "outputs": [],
   "source": []
  }
 ],
 "metadata": {
  "kernelspec": {
   "display_name": "Python 3 (ipykernel)",
   "language": "python",
   "name": "python3"
  },
  "language_info": {
   "codemirror_mode": {
    "name": "ipython",
    "version": 3
   },
   "file_extension": ".py",
   "mimetype": "text/x-python",
   "name": "python",
   "nbconvert_exporter": "python",
   "pygments_lexer": "ipython3",
   "version": "3.13.3"
  }
 },
 "nbformat": 4,
 "nbformat_minor": 5
}
